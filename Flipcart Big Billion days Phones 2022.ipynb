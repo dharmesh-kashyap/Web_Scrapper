{
 "cells": [
  {
   "cell_type": "code",
   "execution_count": 2,
   "id": "7d347340",
   "metadata": {},
   "outputs": [],
   "source": [
    "from bs4 import BeautifulSoup\n",
    "import requests\n",
    "import smtplib\n",
    "import time\n",
    "import datetime"
   ]
  },
  {
   "cell_type": "code",
   "execution_count": 7,
   "id": "8c4b291c",
   "metadata": {},
   "outputs": [
    {
     "name": "stdout",
     "output_type": "stream",
     "text": [
      "\n",
      "            Nothing Phone (1) (Black, 256 GB)\n",
      "            \n",
      "            (12 GB RAM)\n",
      "           \n",
      "\n",
      "             ₹39,999\n",
      "            \n"
     ]
    }
   ],
   "source": [
    "# Connect to Website and pull in data\n",
    "\n",
    "URL = 'https://www.flipkart.com/nothing-phone-1-black-256-gb/p/itmeea53a564de47?pid=MOBGCYGPXKY9H62J&lid=LSTMOBGCYGPXKY9H62JOABLMR&marketplace=FLIPKART&store=tyy%2F4io&srno=b_1_1&otracker=clp_creative_card_4_69.creativeCard.CREATIVE_CARD_mobile-phones-big-billion-days22-sneak-peek-jgt76yh-store_48WLBO09JU0N&fm=neo%2Fmerchandising&iid=15f5c146-6b57-4483-9ac3-bfb980468633.MOBGCYGPXKY9H62J.SEARCH&ppt=clp&ppn=mobile-phones-big-billion-days22-sneak-peek-jgt76yh-store&ssid=71rzxn5pds0000001663194693421'\n",
    "\n",
    "headers = {\"User-Agent\": \"Mozilla/5.0 (Windows NT 10.0; Win64; x64) AppleWebKit/537.36 (KHTML, like Gecko) Chrome/105.0.0.0 Safari/537.36 Edg/105.0.1343.33\"}\n",
    "\n",
    "page = requests.get(URL, headers=headers)\n",
    "\n",
    "soup1 = BeautifulSoup(page.content, \"html.parser\")\n",
    "\n",
    "soup2 = BeautifulSoup(soup1.prettify(), \"html.parser\")\n",
    "\n",
    "title = soup2.find('span',{'class':\"B_NuCI\"}).get_text()\n",
    "\n",
    "price = soup2.find('div',{'class':'_30jeq3 _16Jk6d'}).get_text() #<div class=\"_30jeq3 _16Jk6d\">₹39,999</div>\n",
    "\n",
    "\n",
    "print(title)\n",
    "print(price)"
   ]
  },
  {
   "cell_type": "code",
   "execution_count": 8,
   "id": "9e63b511",
   "metadata": {},
   "outputs": [
    {
     "name": "stdout",
     "output_type": "stream",
     "text": [
      "Nothing Phone (1) (Black, 256 GB)\n",
      "            \n",
      "            (12 GB RAM)\n",
      "39,999\n"
     ]
    }
   ],
   "source": [
    "# Clean up the data a little bit\n",
    "\n",
    "price = price.strip()[1:]\n",
    "title = title.strip()\n",
    "\n",
    "print(title)\n",
    "print(price)"
   ]
  },
  {
   "cell_type": "code",
   "execution_count": 9,
   "id": "e0b5e469",
   "metadata": {},
   "outputs": [
    {
     "name": "stdout",
     "output_type": "stream",
     "text": [
      "2022-09-15\n"
     ]
    }
   ],
   "source": [
    "# Create a Timestamp for your output to track when data was collected\n",
    "\n",
    "import datetime\n",
    "\n",
    "today = datetime.date.today()\n",
    "\n",
    "print(today)"
   ]
  },
  {
   "cell_type": "code",
   "execution_count": 11,
   "id": "4e451048",
   "metadata": {},
   "outputs": [],
   "source": [
    "import csv \n",
    "\n",
    "header = ['Title', 'Price', 'Date']\n",
    "data = [title, price, today]\n",
    "\n",
    "\n",
    "with open('NothingPhone1Datascrapper.csv', 'w', newline='', encoding='UTF8') as f:\n",
    "    writer = csv.writer(f)\n",
    "    writer.writerow(header)\n",
    "    writer.writerow(data)"
   ]
  },
  {
   "cell_type": "code",
   "execution_count": 21,
   "id": "3452648c",
   "metadata": {},
   "outputs": [
    {
     "name": "stdout",
     "output_type": "stream",
     "text": [
      "                                               Title   Price        Date  \\\n",
      "0  Nothing Phone (1) (Black, 256 GB)\\n           ...  39,999  15-09-2022   \n",
      "1  Nothing Phone (1) (Black, 256 GB)\\n           ...  39,999  2022-09-15   \n",
      "2  Nothing Phone (1) (Black, 256 GB)\\n           ...  39,999  2022-09-15   \n",
      "3  Nothing Phone (1) (Black, 256 GB)\\n           ...  39,999  2022-09-15   \n",
      "\n",
      "   Unnamed: 3  \n",
      "0  16-09-2022  \n",
      "1         NaN  \n",
      "2         NaN  \n",
      "3         NaN  \n"
     ]
    }
   ],
   "source": [
    "import pandas as pd\n",
    "\n",
    "df = pd.read_csv(r'C:\\Users\\dharm\\NothingPhone1Datascrapper.csv')\n",
    "\n",
    "print(df)"
   ]
  },
  {
   "cell_type": "code",
   "execution_count": 20,
   "id": "06e18cad",
   "metadata": {},
   "outputs": [],
   "source": [
    "#Now we are appending data to the csv\n",
    "\n",
    "with open('NothingPhone1Datascrapper.csv', 'a+', newline='', encoding='UTF8') as f:\n",
    "    writer = csv.writer(f)\n",
    "    writer.writerow(data)\n",
    "\n"
   ]
  },
  {
   "cell_type": "code",
   "execution_count": 22,
   "id": "7c9ccfd5",
   "metadata": {},
   "outputs": [],
   "source": [
    "def check_price():\n",
    "    URL = 'https://www.flipkart.com/nothing-phone-1-black-256-gb/p/itmeea53a564de47?pid=MOBGCYGPXKY9H62J&lid=LSTMOBGCYGPXKY9H62JOABLMR&marketplace=FLIPKART&store=tyy%2F4io&srno=b_1_1&otracker=clp_creative_card_4_69.creativeCard.CREATIVE_CARD_mobile-phones-big-billion-days22-sneak-peek-jgt76yh-store_48WLBO09JU0N&fm=neo%2Fmerchandising&iid=15f5c146-6b57-4483-9ac3-bfb980468633.MOBGCYGPXKY9H62J.SEARCH&ppt=clp&ppn=mobile-phones-big-billion-days22-sneak-peek-jgt76yh-store&ssid=71rzxn5pds0000001663194693421'\n",
    "\n",
    "    headers = {\"User-Agent\": \"Mozilla/5.0 (Windows NT 10.0; Win64; x64) AppleWebKit/537.36 (KHTML, like Gecko) Chrome/105.0.0.0 Safari/537.36 Edg/105.0.1343.33\"}\n",
    "\n",
    "    page = requests.get(URL, headers=headers)\n",
    "\n",
    "    soup1 = BeautifulSoup(page.content, \"html.parser\")\n",
    "\n",
    "    soup2 = BeautifulSoup(soup1.prettify(), \"html.parser\")\n",
    "\n",
    "    title = soup2.find('span',{'class':\"B_NuCI\"}).get_text()\n",
    "    \n",
    "    price = soup2.find('div',{'class':'_30jeq3 _16Jk6d'}).get_text()\n",
    "\n",
    "    price = price.strip()[1:]\n",
    "    title = title.strip()\n",
    "\n",
    "    import datetime\n",
    "\n",
    "    today = datetime.date.today()\n",
    "    \n",
    "    import csv \n",
    "\n",
    "    header = ['Title', 'Price', 'Date']\n",
    "    data = [title, price, today]\n",
    "\n",
    "    with open('NothingPhone1Datascrapper.csv', 'a+', newline='', encoding='UTF8') as f:\n",
    "        writer = csv.writer(f)\n",
    "        writer.writerow(data)\n",
    " \n",
    "    "
   ]
  },
  {
   "cell_type": "code",
   "execution_count": null,
   "id": "f6a72fbc",
   "metadata": {},
   "outputs": [],
   "source": [
    "while(True):\n",
    "    check_price()\n",
    "    time.sleep(3600)"
   ]
  },
  {
   "cell_type": "code",
   "execution_count": null,
   "id": "1dfbd153",
   "metadata": {},
   "outputs": [],
   "source": [
    "import pandas as pd\n",
    "\n",
    "df = pd.read_csv((r'C:\\Users\\dharm\\NothingPhone1Datascrapper.csv')\n",
    "\n",
    "print(df)"
   ]
  },
  {
   "cell_type": "code",
   "execution_count": null,
   "id": "f4a10793",
   "metadata": {},
   "outputs": [],
   "source": [
    "# If uou want to try sending yourself an email (just for fun) when a price hits below a certain level you can try it\n",
    "# out with this script\n",
    "\n",
    "    send_mail():\n",
    "    server = smtplib.SMTP_SSL('smtp.gmail.com',465)\n",
    "    server.ehlo()\n",
    "    #server.starttls()\n",
    "    server.ehlo()\n",
    "    server.login('YourE-Mail@gmail.com','xxxxxxxxxxxxxx')\n",
    "    \n",
    "    subject = \"The Phone you want is below 32k! Now is your chance to buy!\"\n",
    "    body = \"Name, This is the moment we have been waiting for. Now is your chance to pick up the shirt of your dreams. Don't mess it up! Link here: Link\"\n",
    "   \n",
    "    msg = f\"Subject: {subject}\\n\\n{body}\"\n",
    "    \n",
    "    server.sendmail(\n",
    "        'reciepentsemail@gmail.com',\n",
    "        msg\n",
    "     \n",
    "    )"
   ]
  }
 ],
 "metadata": {
  "kernelspec": {
   "display_name": "Python 3 (ipykernel)",
   "language": "python",
   "name": "python3"
  },
  "language_info": {
   "codemirror_mode": {
    "name": "ipython",
    "version": 3
   },
   "file_extension": ".py",
   "mimetype": "text/x-python",
   "name": "python",
   "nbconvert_exporter": "python",
   "pygments_lexer": "ipython3",
   "version": "3.9.12"
  }
 },
 "nbformat": 4,
 "nbformat_minor": 5
}
